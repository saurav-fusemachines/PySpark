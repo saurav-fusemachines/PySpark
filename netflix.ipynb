{
 "cells": [
  {
   "cell_type": "markdown",
   "id": "117cb730-6600-42c6-9529-bea65b900eb7",
   "metadata": {},
   "source": [
    "Creating a Dataframe"
   ]
  },
  {
   "cell_type": "code",
   "execution_count": 1,
   "id": "bfadcd61-3730-4513-99e0-c91b9d157353",
   "metadata": {},
   "outputs": [
    {
     "name": "stdout",
     "output_type": "stream",
     "text": [
      "22/10/20 13:31:29 WARN Utils: Your hostname, Inspiron-5567 resolves to a loopback address: 127.0.1.1; using 192.168.1.72 instead (on interface wlp2s0)\n",
      "22/10/20 13:31:29 WARN Utils: Set SPARK_LOCAL_IP if you need to bind to another address\n"
     ]
    },
    {
     "name": "stderr",
     "output_type": "stream",
     "text": [
      "Setting default log level to \"WARN\".\n",
      "To adjust logging level use sc.setLogLevel(newLevel). For SparkR, use setLogLevel(newLevel).\n"
     ]
    },
    {
     "name": "stdout",
     "output_type": "stream",
     "text": [
      "22/10/20 13:31:31 WARN NativeCodeLoader: Unable to load native-hadoop library for your platform... using builtin-java classes where applicable\n",
      "22/10/20 13:31:33 WARN Utils: Service 'SparkUI' could not bind on port 4040. Attempting port 4041.\n",
      "22/10/20 13:31:33 WARN Utils: Service 'SparkUI' could not bind on port 4041. Attempting port 4042.\n"
     ]
    }
   ],
   "source": [
    "from pyspark.sql import SparkSession\n",
    "from pyspark.sql import functions as F\n",
    "from pyspark.sql.functions import udf\n",
    "\n",
    "spark = SparkSession.builder.appName(\"Netflix_Title\").getOrCreate()"
   ]
  },
  {
   "cell_type": "code",
   "execution_count": 2,
   "id": "2ced4df3-6a7f-481f-b47f-8931fec56619",
   "metadata": {},
   "outputs": [
    {
     "name": "stderr",
     "output_type": "stream",
     "text": [
      "                                                                                \r"
     ]
    }
   ],
   "source": [
    "df = spark.read.json('/home/saurav/Desktop/SparkAssignment/netflix_titles.json')"
   ]
  },
  {
   "cell_type": "code",
   "execution_count": 3,
   "id": "8569ad13-5d38-4d88-a9d5-f5cf04d9483b",
   "metadata": {},
   "outputs": [
    {
     "name": "stdout",
     "output_type": "stream",
     "text": [
      "+-------+\n",
      "|show_id|\n",
      "+-------+\n",
      "|     s1|\n",
      "|     s2|\n",
      "|     s3|\n",
      "|     s4|\n",
      "|     s5|\n",
      "|     s6|\n",
      "|     s7|\n",
      "|     s8|\n",
      "|     s9|\n",
      "|    s10|\n",
      "|    s11|\n",
      "|    s12|\n",
      "|    s13|\n",
      "|    s14|\n",
      "|    s15|\n",
      "|    s16|\n",
      "|    s17|\n",
      "|    s18|\n",
      "|    s19|\n",
      "|    s20|\n",
      "+-------+\n",
      "only showing top 20 rows\n",
      "\n"
     ]
    }
   ],
   "source": [
    "df.select(df['show_id']).show()"
   ]
  },
  {
   "cell_type": "markdown",
   "id": "e4741ed2-0a94-489a-bc5c-7b555b2c6167",
   "metadata": {},
   "source": [
    "# 1. How many PG-13 titles are there?"
   ]
  },
  {
   "cell_type": "code",
   "execution_count": 4,
   "id": "699c91aa-41ab-4bac-a243-6bc795f93a0c",
   "metadata": {},
   "outputs": [
    {
     "name": "stderr",
     "output_type": "stream",
     "text": [
      "[Stage 2:=============================>                             (1 + 1) / 2]\r"
     ]
    },
    {
     "name": "stdout",
     "output_type": "stream",
     "text": [
      "Total PG-13 Titles: 386\n"
     ]
    },
    {
     "name": "stderr",
     "output_type": "stream",
     "text": [
      "                                                                                \r"
     ]
    }
   ],
   "source": [
    "pg13_count = df.where(df.rating=='PG-13').count()\n",
    "print(\"Total PG-13 Titles:\",pg13_count)"
   ]
  },
  {
   "cell_type": "markdown",
   "id": "52427755-d00c-4507-8ea4-b98b7b6cd682",
   "metadata": {},
   "source": [
    "# 2. How many titles an actor or actress appeared in?"
   ]
  },
  {
   "cell_type": "code",
   "execution_count": 5,
   "id": "47d1c207-6cbe-42db-99cb-0f45887e1c43",
   "metadata": {},
   "outputs": [
    {
     "name": "stderr",
     "output_type": "stream",
     "text": [
      "[Stage 5:=============================>                             (1 + 1) / 2]\r"
     ]
    },
    {
     "name": "stdout",
     "output_type": "stream",
     "text": [
      "+------------------+-----+\n",
      "|              cast|count|\n",
      "+------------------+-----+\n",
      "|       Anupam Kher|   37|\n",
      "|  Takahiro Sakurai|   27|\n",
      "|           Om Puri|   27|\n",
      "|    Shah Rukh Khan|   27|\n",
      "|       Boman Irani|   25|\n",
      "|      Paresh Rawal|   24|\n",
      "|     Andrea Libman|   24|\n",
      "|         Yuki Kaji|   23|\n",
      "|      Akshay Kumar|   22|\n",
      "|      Vincent Tong|   22|\n",
      "|       John Cleese|   20|\n",
      "|    Kareena Kapoor|   20|\n",
      "|      Adam Sandler|   19|\n",
      "|    Junichi Suwabe|   18|\n",
      "|         Ai Kayano|   18|\n",
      "|  Amitabh Bachchan|   18|\n",
      "|    Gulshan Grover|   18|\n",
      "|David Attenborough|   18|\n",
      "|  Naseeruddin Shah|   18|\n",
      "|    Yashpal Sharma|   18|\n",
      "+------------------+-----+\n",
      "only showing top 20 rows\n",
      "\n"
     ]
    },
    {
     "name": "stderr",
     "output_type": "stream",
     "text": [
      "                                                                                \r"
     ]
    }
   ],
   "source": [
    "split_cast=df.select(df.cast).withColumn('cast',F.explode(F.split('cast',',')))\n",
    "\n",
    "cast_count= split_cast.groupBy('cast').count().orderBy('count', ascending=False)# groupby 'cast' and count the number of times each ac\n",
    "\n",
    "remove_empty_cast = cast_count.filter(cast_count.cast!='')\n",
    "\n",
    "total_cast_app = remove_empty_cast.show()"
   ]
  },
  {
   "cell_type": "markdown",
   "id": "1ba6377a-24db-41af-8a35-7222b147396f",
   "metadata": {},
   "source": [
    "# 3. How many titles has a director has filmed?\n"
   ]
  },
  {
   "cell_type": "code",
   "execution_count": 6,
   "id": "30e7fe03-3648-4187-a82a-ca5e6773cd60",
   "metadata": {},
   "outputs": [
    {
     "name": "stdout",
     "output_type": "stream",
     "text": [
      "+--------------------+-----+\n",
      "|            director|count|\n",
      "+--------------------+-----+\n",
      "|        Şenol Sönmez|    2|\n",
      "|    Ömer Faruk Sorak|    2|\n",
      "| Óskar Thór Axelsson|    1|\n",
      "|    Ísold Uggadóttir|    1|\n",
      "|         Çagan Irmak|    1|\n",
      "|Ángel Gómez Herná...|    1|\n",
      "|     Álvaro Longoria|    1|\n",
      "|Álvaro Delgado-Ap...|    1|\n",
      "|     Álvaro Brechner|    1|\n",
      "|  Álex de la Iglesia|    2|\n",
      "|         Àlex Pastor|    2|\n",
      "|         Zuko Nodada|    1|\n",
      "|         Zsolt Pálfi|    1|\n",
      "|         Zoya Akhtar|    4|\n",
      "|    Zoe Lister-Jones|    1|\n",
      "|       Zoe Berriatúa|    2|\n",
      "|       Ziggy Hofmeyr|    1|\n",
      "|           Ziga Virc|    1|\n",
      "|        Ziad Doueiri|    2|\n",
      "|         Zhang Yimou|    1|\n",
      "+--------------------+-----+\n",
      "only showing top 20 rows\n",
      "\n"
     ]
    }
   ],
   "source": [
    "split_director = df.select(df.director).withColumn('director',F.explode(F.split('director',',')))\n",
    "\n",
    "count_director = split_director.groupBy('director').count().orderBy('director',ascending=False)\n",
    "\n",
    "remove_empty_count = count_director.filter(count_director.director !='')\n",
    "\n",
    "total_director = remove_empty_count.show()\n",
    "\n",
    "# df.groupBy(\"director\").count().show()"
   ]
  },
  {
   "cell_type": "markdown",
   "id": "fc44462b-904b-4ad9-93d1-78191036ca70",
   "metadata": {},
   "source": [
    "# 4. What content is available in different countries?"
   ]
  },
  {
   "cell_type": "code",
   "execution_count": 7,
   "id": "d73d338d-a5f0-4af7-9e8f-367468fbf4a7",
   "metadata": {},
   "outputs": [
    {
     "name": "stdout",
     "output_type": "stream",
     "text": [
      "+--------------------+--------------------+\n",
      "|             country|           listed_in|\n",
      "+--------------------+--------------------+\n",
      "|              Turkey|Dramas, Internati...|\n",
      "|            Colombia|Documentaries, In...|\n",
      "|           Australia|Dramas, Internati...|\n",
      "|               Egypt|International TV ...|\n",
      "|                    |Crime TV Shows, I...|\n",
      "|            Pakistan|Dramas, Internati...|\n",
      "|Mexico, United St...|            Comedies|\n",
      "|             Germany|Comedies, Interna...|\n",
      "|              Mexico|Action & Adventur...|\n",
      "|United Kingdom, U...|Action & Adventur...|\n",
      "|Canada, United St...|Horror Movies, Th...|\n",
      "|               Japan|International TV ...|\n",
      "|       United States|Action & Adventur...|\n",
      "|               Italy|Comedies, Interna...|\n",
      "|       United States|Comedies, Indepen...|\n",
      "|         South Korea|Action & Adventur...|\n",
      "|               Chile|Comedies, Indepen...|\n",
      "|           Argentina|Kids' TV, Spanish...|\n",
      "|                    |Crime TV Shows, I...|\n",
      "|   Denmark, Zimbabwe|Documentaries, In...|\n",
      "+--------------------+--------------------+\n",
      "only showing top 20 rows\n",
      "\n"
     ]
    }
   ],
   "source": [
    "df.groupBy('country','listed_in').count().drop('count').show()\n"
   ]
  },
  {
   "cell_type": "markdown",
   "id": "194769a5-9dc7-4794-9a5d-214d4c24e8fc",
   "metadata": {},
   "source": [
    "# 5. How many movies were released in 2008?"
   ]
  },
  {
   "cell_type": "code",
   "execution_count": 8,
   "id": "01a15255-1a49-43cc-ba6c-1469ef4ee32d",
   "metadata": {},
   "outputs": [
    {
     "name": "stdout",
     "output_type": "stream",
     "text": [
      "Total movies released in 2008 is: 102\n"
     ]
    }
   ],
   "source": [
    "total_2008 = df.where((df.release_year==2008) &  (df.type  == \"Movie\")).count()\n",
    "print(\"Total movies released in 2008 is:\",total_2008)"
   ]
  },
  {
   "cell_type": "markdown",
   "id": "05e20786-3ccb-4e09-8fe0-8f2e11c0974e",
   "metadata": {},
   "source": [
    "# 6.List all the movies whose duration is greater than 100 mins ?"
   ]
  },
  {
   "cell_type": "code",
   "execution_count": 9,
   "id": "f4151160-3f97-4362-8cc2-558a7041ac75",
   "metadata": {},
   "outputs": [
    {
     "name": "stderr",
     "output_type": "stream",
     "text": [
      "[Stage 17:>                                                         (0 + 1) / 1]\r"
     ]
    },
    {
     "name": "stdout",
     "output_type": "stream",
     "text": [
      "+--------------------+----------------------+\n",
      "|               title|duration_100(duration)|\n",
      "+--------------------+----------------------+\n",
      "|                  21|                  123 |\n",
      "|                 187|                  119 |\n",
      "|                 706|                  118 |\n",
      "|                1920|                  143 |\n",
      "|                1922|                  103 |\n",
      "|              Oct-01|                  149 |\n",
      "|              22-Jul|                  144 |\n",
      "|              15-Aug|                  124 |\n",
      "|​​Kuch Bheege Alfaaz|                  110 |\n",
      "|        ​Goli Soda 2|                  128 |\n",
      "|  ​Maj Rati ​​Keteki|                  117 |\n",
      "|   #FriendButMarried|                  102 |\n",
      "| #FriendButMarried 2|                  104 |\n",
      "|               #Roxy|                  105 |\n",
      "|             #Selfie|                  125 |\n",
      "|          #Selfie 69|                  119 |\n",
      "|          Ég man þig|                  106 |\n",
      "|             Òlòtūré|                  107 |\n",
      "|       1 Mile to You|                  105 |\n",
      "|         10,000 B.C.|                  109 |\n",
      "+--------------------+----------------------+\n",
      "only showing top 20 rows\n",
      "\n"
     ]
    },
    {
     "name": "stderr",
     "output_type": "stream",
     "text": [
      "                                                                                \r"
     ]
    }
   ],
   "source": [
    "# dur= df.where(df.type==\"Movie\").select(\"duration\").show()\n",
    "def duration_100(replace_min):\n",
    "    return replace_min.replace('min','')\n",
    "\n",
    "durationUDF = udf(duration_100)\n",
    "\n",
    "filter_movie = df.filter(df['type']=='Movie').select(df['title'],df['duration'])\n",
    "\n",
    "replacing_min = filter_movie.select(df['title'],durationUDF(filter_movie['duration']))\n",
    "duration_100 =  replacing_min.where(replacing_min['duration_100(duration)']>100).show()\n"
   ]
  },
  {
   "cell_type": "markdown",
   "id": "8ffcc24a-a759-457a-87e9-e477b2f1de9a",
   "metadata": {},
   "source": [
    "# 7.List movies played by “Kareena Kapoor” ?"
   ]
  },
  {
   "cell_type": "code",
   "execution_count": 10,
   "id": "65c5462d-9015-4946-8c78-f999e5f4419f",
   "metadata": {},
   "outputs": [
    {
     "name": "stdout",
     "output_type": "stream",
     "text": [
      "+--------------+------------------+\n",
      "|          cast|             title|\n",
      "+--------------+------------------+\n",
      "|Kareena Kapoor|           Chameli|\n",
      "|Kareena Kapoor|Ek Main Aur Ekk Tu|\n",
      "|Kareena Kapoor|           Heroine|\n",
      "|Kareena Kapoor|           Kurbaan|\n",
      "|Kareena Kapoor|        Satyagraha|\n",
      "+--------------+------------------+\n",
      "\n"
     ]
    }
   ],
   "source": [
    "split_cast=df.select(df.cast,df.title).withColumn('cast',F.explode(F.split('cast',',')))\n",
    "kareena = split_cast.filter(split_cast['cast']=='Kareena Kapoor').show()\n",
    "# cast_count= split_cast.groupBy('cast').count().orderBy('count', ascending=False)\n",
    "# remove_empty_cast = cast_count.filter((cast_count.cast!='') & (cast_count.cast=='Kareena Kapoor')).show()\n"
   ]
  },
  {
   "cell_type": "code",
   "execution_count": null,
   "id": "429aca4c-3df0-4390-9a36-90ea8c2c6483",
   "metadata": {},
   "outputs": [],
   "source": []
  }
 ],
 "metadata": {
  "kernelspec": {
   "display_name": "Python 3 (ipykernel)",
   "language": "python",
   "name": "python3"
  },
  "language_info": {
   "codemirror_mode": {
    "name": "ipython",
    "version": 3
   },
   "file_extension": ".py",
   "mimetype": "text/x-python",
   "name": "python",
   "nbconvert_exporter": "python",
   "pygments_lexer": "ipython3",
   "version": "3.8.10"
  },
  "vscode": {
   "interpreter": {
    "hash": "916dbcbb3f70747c44a77c7bcd40155683ae19c65e1c03b4aa3499c5328201f1"
   }
  }
 },
 "nbformat": 4,
 "nbformat_minor": 5
}
