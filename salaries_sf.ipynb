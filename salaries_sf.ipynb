{
 "cells": [
  {
   "cell_type": "code",
   "execution_count": 1,
   "id": "4320b07f-8a72-423d-b9bb-3bb71fa5483e",
   "metadata": {},
   "outputs": [
    {
     "name": "stdout",
     "output_type": "stream",
     "text": [
      "22/10/21 08:03:19 WARN Utils: Your hostname, Inspiron-5567 resolves to a loopback address: 127.0.1.1; using 192.168.1.72 instead (on interface wlp2s0)\n",
      "22/10/21 08:03:19 WARN Utils: Set SPARK_LOCAL_IP if you need to bind to another address\n"
     ]
    },
    {
     "name": "stderr",
     "output_type": "stream",
     "text": [
      "Setting default log level to \"WARN\".\n",
      "To adjust logging level use sc.setLogLevel(newLevel). For SparkR, use setLogLevel(newLevel).\n"
     ]
    },
    {
     "name": "stdout",
     "output_type": "stream",
     "text": [
      "22/10/21 08:03:20 WARN NativeCodeLoader: Unable to load native-hadoop library for your platform... using builtin-java classes where applicable\n"
     ]
    }
   ],
   "source": [
    "from pyspark.sql import SparkSession\n",
    "from pyspark.sql import functions as F\n",
    "from pyspark.sql.functions import udf,col,lit\n",
    "\n",
    "spark = SparkSession.builder.appName(\"Netflix_Title\").getOrCreate()"
   ]
  },
  {
   "cell_type": "code",
   "execution_count": 2,
   "id": "ec5150b8-fdec-4df3-8237-552cdd40e0ce",
   "metadata": {},
   "outputs": [
    {
     "name": "stderr",
     "output_type": "stream",
     "text": [
      "[Stage 0:>                                                          (0 + 4) / 4]\r"
     ]
    },
    {
     "name": "stdout",
     "output_type": "stream",
     "text": [
      "root\n",
      " |-- Agency: string (nullable = true)\n",
      " |-- BasePay: string (nullable = true)\n",
      " |-- Benefits: string (nullable = true)\n",
      " |-- EmployeeName: string (nullable = true)\n",
      " |-- Id: string (nullable = true)\n",
      " |-- JobTitle: string (nullable = true)\n",
      " |-- Notes: string (nullable = true)\n",
      " |-- OtherPay: string (nullable = true)\n",
      " |-- OvertimePay: string (nullable = true)\n",
      " |-- Status: string (nullable = true)\n",
      " |-- TotalPay: string (nullable = true)\n",
      " |-- TotalPayBenefits: string (nullable = true)\n",
      " |-- Year: string (nullable = true)\n",
      " |-- _corrupt_record: string (nullable = true)\n",
      "\n"
     ]
    },
    {
     "name": "stderr",
     "output_type": "stream",
     "text": [
      "                                                                                \r"
     ]
    }
   ],
   "source": [
    "salarydf = spark.read.json('/home/saurav/Desktop/SparkAssignment/Salaries.json')\n",
    "salarydf.printSchema()"
   ]
  },
  {
   "cell_type": "code",
   "execution_count": 3,
   "id": "58f08642-8427-44cd-a40f-a476d08abcd5",
   "metadata": {},
   "outputs": [
    {
     "name": "stdout",
     "output_type": "stream",
     "text": [
      "+-------------+---------+--------+------------------+---+--------------------+-----+---------+-----------+------+---------+----------------+----+---------------+\n",
      "|       Agency|  BasePay|Benefits|      EmployeeName| Id|            JobTitle|Notes| OtherPay|OvertimePay|Status| TotalPay|TotalPayBenefits|Year|_corrupt_record|\n",
      "+-------------+---------+--------+------------------+---+--------------------+-----+---------+-----------+------+---------+----------------+----+---------------+\n",
      "|San Francisco|167411.18|        |    NATHANIEL FORD|  1|GENERAL MANAGER-M...|     |400184.25|        0.0|      |567595.43|       567595.43|2011|           null|\n",
      "|San Francisco|155966.02|        |      GARY JIMENEZ|  2|CAPTAIN III (POLI...|     |137811.38|  245131.88|      |538909.28|       538909.28|2011|           null|\n",
      "|San Francisco|212739.13|        |    ALBERT PARDINI|  3|CAPTAIN III (POLI...|     |  16452.6|  106088.18|      |335279.91|       335279.91|2011|           null|\n",
      "|San Francisco|  77916.0|        | CHRISTOPHER CHONG|  4|WIRE ROPE CABLE M...|     | 198306.9|   56120.71|      |332343.61|       332343.61|2011|           null|\n",
      "|San Francisco| 134401.6|        |   PATRICK GARDNER|  5|DEPUTY CHIEF OF D...|     |182234.59|     9737.0|      |326373.19|       326373.19|2011|           null|\n",
      "|San Francisco| 118602.0|        |    DAVID SULLIVAN|  6|ASSISTANT DEPUTY ...|     |189082.74|     8601.0|      |316285.74|       316285.74|2011|           null|\n",
      "|San Francisco| 92492.01|        |         ALSON LEE|  7|BATTALION CHIEF, ...|     |134426.14|    89062.9|      |315981.05|       315981.05|2011|           null|\n",
      "|San Francisco|256576.96|        |     DAVID KUSHNER|  8|DEPUTY DIRECTOR O...|     |  51322.5|        0.0|      |307899.46|       307899.46|2011|           null|\n",
      "|San Francisco|176932.64|        |    MICHAEL MORRIS|  9|BATTALION CHIEF, ...|     | 40132.23|   86362.68|      |303427.55|       303427.55|2011|           null|\n",
      "|San Francisco| 285262.0|        |JOANNE HAYES-WHITE| 10|CHIEF OF DEPARTME...|     | 17115.73|        0.0|      |302377.73|       302377.73|2011|           null|\n",
      "+-------------+---------+--------+------------------+---+--------------------+-----+---------+-----------+------+---------+----------------+----+---------------+\n",
      "only showing top 10 rows\n",
      "\n"
     ]
    }
   ],
   "source": [
    "salarydf.show(10)"
   ]
  },
  {
   "cell_type": "markdown",
   "id": "5f1cf19f-9226-4b53-a2d8-ea02f49259a5",
   "metadata": {},
   "source": [
    "### Q1 Find the average salaries of each job position(assuming salary is the total of all pays)."
   ]
  },
  {
   "cell_type": "code",
   "execution_count": 9,
   "id": "58d1e455-145a-4ca4-905b-6bfb6ba2c011",
   "metadata": {},
   "outputs": [
    {
     "name": "stdout",
     "output_type": "stream",
     "text": [
      "+--------------------+------------------+\n",
      "|            JobTitle|     avg(TotalPay)|\n",
      "+--------------------+------------------+\n",
      "|MANAGER, UNIFIED ...|         124392.29|\n",
      "|COURT ALTERNATIVE...|58886.517499999994|\n",
      "|       CITY ATTORNEY|         208243.12|\n",
      "|HEALTH PROGRAM CO...| 80969.15729166666|\n",
      "|PERFORMANCE ANALY...| 94262.28166666666|\n",
      "|HEAVY EQUIPMENT O...|           92872.0|\n",
      "|          Dep Dir IV|166163.39716216217|\n",
      "|          Manager VI|152671.80469696966|\n",
      "|Communications Li...|          99856.51|\n",
      "|BATTALION CHIEF, ...| 216655.5368888889|\n",
      "|ASSOCIATE PERFORM...| 56206.88909090909|\n",
      "|SENIOR ESTATE INV...|          81456.45|\n",
      "|              ROOFER| 68091.44888888889|\n",
      "|        Undersheriff|130191.38500000001|\n",
      "|        Dept Head II|168502.90954545455|\n",
      "|Sprv Electronic M...|133524.56083333332|\n",
      "|AUTOMOTIVE MECHAN...|126170.64000000001|\n",
      "|MANAGER VII - MUN...|        150641.082|\n",
      "|STATION AGENT, MU...| 94206.51288461537|\n",
      "|CONFIDENTIAL SECR...|          78482.26|\n",
      "+--------------------+------------------+\n",
      "only showing top 20 rows\n",
      "\n"
     ]
    }
   ],
   "source": [
    "salarydf.groupBy('JobTitle').agg({'TotalPay':'mean'}).show()"
   ]
  },
  {
   "cell_type": "markdown",
   "id": "da09cce9-7111-4fe9-a9f2-412ab872fe8a",
   "metadata": {},
   "source": [
    "### Q2 Which job title has the highest full time employees?"
   ]
  },
  {
   "cell_type": "code",
   "execution_count": 10,
   "id": "53e6da19-b287-43b6-b6a2-a93e12d6c765",
   "metadata": {},
   "outputs": [
    {
     "name": "stderr",
     "output_type": "stream",
     "text": [
      "[Stage 14:>                                                         (0 + 4) / 4]\r"
     ]
    },
    {
     "name": "stdout",
     "output_type": "stream",
     "text": [
      "+-------------+-------------+\n",
      "|     JobTitle|max(OtherPay)|\n",
      "+-------------+-------------+\n",
      "|NURSE MANAGER|      9999.08|\n",
      "+-------------+-------------+\n",
      "only showing top 1 row\n",
      "\n"
     ]
    },
    {
     "name": "stderr",
     "output_type": "stream",
     "text": [
      "                                                                                \r"
     ]
    }
   ],
   "source": [
    "title_and_pay = salarydf.select(salarydf.JobTitle,salarydf.OtherPay)\n",
    "grouping_jobTitle = title_and_pay.groupBy('JobTitle').agg({'OtherPay':'max'})\n",
    "in_desc = grouping_jobTitle.orderBy(grouping_jobTitle['max(otherPay)'].desc()).show(1)\n",
    "# max_salary = grouping_jobTitle.agg({'max(OtherPay)':'max'}).show()"
   ]
  },
  {
   "cell_type": "markdown",
   "id": "ac954319-0b95-4b0a-a9ac-24137183a2d9",
   "metadata": {},
   "source": [
    "### Q3 List the name of employees who work for the police department? "
   ]
  },
  {
   "cell_type": "code",
   "execution_count": 11,
   "id": "ef505a15-5972-46de-a294-73846f2fbc58",
   "metadata": {},
   "outputs": [
    {
     "name": "stdout",
     "output_type": "stream",
     "text": [
      "+----------------+-----------------+\n",
      "|    EmployeeName|         JobTitle|\n",
      "+----------------+-----------------+\n",
      "|    GARY JIMENEZ|POLICE DEPARTMENT|\n",
      "|  ALBERT PARDINI|POLICE DEPARTMENT|\n",
      "|PATRICIA JACKSON|POLICE DEPARTMENT|\n",
      "| RICHARD CORRIEA|POLICE DEPARTMENT|\n",
      "|    GREGORY SUHR|POLICE DEPARTMENT|\n",
      "|  DENISE SCHMITT|POLICE DEPARTMENT|\n",
      "|     DAVID SHINN|POLICE DEPARTMENT|\n",
      "|      JOHN TURSI|POLICE DEPARTMENT|\n",
      "|     JAMES BOSCH|POLICE DEPARTMENT|\n",
      "|      JONES WONG|POLICE DEPARTMENT|\n",
      "|    JAMES DUDLEY|POLICE DEPARTMENT|\n",
      "|   KEVIN CASHMAN|POLICE DEPARTMENT|\n",
      "|      ANNA BROWN|POLICE DEPARTMENT|\n",
      "|     GREGORY MAR|POLICE DEPARTMENT|\n",
      "|   RICHARD PARRY|POLICE DEPARTMENT|\n",
      "|  THOMAS SHAWYER|POLICE DEPARTMENT|\n",
      "|  ANTONIO FLORES|POLICE DEPARTMENT|\n",
      "|     MARK GAMBLE|POLICE DEPARTMENT|\n",
      "|   DONNA MEIXNER|POLICE DEPARTMENT|\n",
      "|     JOHN MURPHY|POLICE DEPARTMENT|\n",
      "+----------------+-----------------+\n",
      "only showing top 20 rows\n",
      "\n"
     ]
    },
    {
     "name": "stderr",
     "output_type": "stream",
     "text": [
      "                                                                                \r"
     ]
    }
   ],
   "source": [
    "def remove_front_char(jobtitle):\n",
    "    return jobtitle.replace('(','')\n",
    "\n",
    "remove_char_udf = udf(remove_front_char)  #defining udf for removing '('\n",
    "\n",
    "def remove_rear_char(jobtitle):\n",
    "    return jobtitle.replace(')','')\n",
    "\n",
    "remove_rear_udf= udf(remove_rear_char)    #defining udf for removing ')'\n",
    "\n",
    "filter1=salarydf.select(salarydf['EmployeeName'],remove_char_udf(salarydf['JobTitle'])).withColumnRenamed('remove_front_char(JobTitle)','JobTitle')\n",
    "filter2=filter1.select(filter1['EmployeeName'],remove_rear_udf(filter1['JobTitle'])).withColumnRenamed('remove_rear_char(JobTitle)','JobTitle')\n",
    "\n",
    "\n",
    "split_dept=filter2.select(filter2.EmployeeName,filter2.JobTitle).withColumn('JobTitle',F.explode(F.split('JobTitle',',')))    #splitting and exploding JobTitle having comma\n",
    "split_dept1=split_dept.select(split_dept.EmployeeName,split_dept.JobTitle).withColumn('JobTitle',F.explode(F.split(\"JobTitle\",\" \")))   #exploding and splitting JobTitle having whitespaces\n",
    "\n",
    "\n",
    "split_white_space = split_dept1.filter((split_dept1.JobTitle=='POLICE'))\n",
    "\n",
    "final_result = split_white_space.select(split_white_space.EmployeeName).withColumn(\"JobTitle\",lit(\"POLICE DEPARTMENT\")).show()"
   ]
  },
  {
   "cell_type": "markdown",
   "id": "430e4565-3003-463e-93f6-29cb45f2123f",
   "metadata": {},
   "source": [
    "### Q4 Find the job titles along with the employees name and ids."
   ]
  },
  {
   "cell_type": "code",
   "execution_count": 12,
   "id": "671bf657-9c2f-4c8e-95e2-1a7216f67c1e",
   "metadata": {},
   "outputs": [
    {
     "name": "stdout",
     "output_type": "stream",
     "text": [
      "+--------------------+------------------+---+\n",
      "|            JobTitle|      EmployeeName| Id|\n",
      "+--------------------+------------------+---+\n",
      "|GENERAL MANAGER-M...|    NATHANIEL FORD|  1|\n",
      "|CAPTAIN III (POLI...|      GARY JIMENEZ|  2|\n",
      "|CAPTAIN III (POLI...|    ALBERT PARDINI|  3|\n",
      "|WIRE ROPE CABLE M...| CHRISTOPHER CHONG|  4|\n",
      "|DEPUTY CHIEF OF D...|   PATRICK GARDNER|  5|\n",
      "|ASSISTANT DEPUTY ...|    DAVID SULLIVAN|  6|\n",
      "|BATTALION CHIEF, ...|         ALSON LEE|  7|\n",
      "|DEPUTY DIRECTOR O...|     DAVID KUSHNER|  8|\n",
      "|BATTALION CHIEF, ...|    MICHAEL MORRIS|  9|\n",
      "|CHIEF OF DEPARTME...|JOANNE HAYES-WHITE| 10|\n",
      "|ASSISTANT CHIEF O...|     ARTHUR KENNEY| 11|\n",
      "|CAPTAIN III (POLI...|  PATRICIA JACKSON| 12|\n",
      "|EXECUTIVE CONTRAC...| EDWARD HARRINGTON| 13|\n",
      "|   DEPARTMENT HEAD V|       JOHN MARTIN| 14|\n",
      "|BATTALION CHIEF, ...|    DAVID FRANKLIN| 15|\n",
      "|COMMANDER III, (P...|   RICHARD CORRIEA| 16|\n",
      "|   DEPARTMENT HEAD V|          AMY HART| 17|\n",
      "|CAPTAIN, EMERGENC...|    SEBASTIAN WONG| 18|\n",
      "|BATTALION CHIEF, ...|        MARTY ROSS| 19|\n",
      "|ASSISTANT MEDICAL...|     ELLEN MOFFATT| 20|\n",
      "+--------------------+------------------+---+\n",
      "only showing top 20 rows\n",
      "\n"
     ]
    }
   ],
   "source": [
    "salarydf.select(salarydf['JobTitle'],salarydf['EmployeeName'],salarydf['Id']).show()"
   ]
  },
  {
   "cell_type": "markdown",
   "id": "38fc3ad7-a9a1-4d26-ab68-1d7721356124",
   "metadata": {},
   "source": [
    "### Q5 Find the number of employees in each job title. "
   ]
  },
  {
   "cell_type": "code",
   "execution_count": 13,
   "id": "7b5f78c5-86f5-46ad-a005-6259d62cb736",
   "metadata": {},
   "outputs": [
    {
     "name": "stderr",
     "output_type": "stream",
     "text": [
      "[Stage 19:==============>                                           (1 + 3) / 4]\r"
     ]
    },
    {
     "name": "stdout",
     "output_type": "stream",
     "text": [
      "+--------------------+-----+\n",
      "|            JobTitle|count|\n",
      "+--------------------+-----+\n",
      "|MANAGER, UNIFIED ...|    1|\n",
      "|COURT ALTERNATIVE...|    4|\n",
      "|       CITY ATTORNEY|    1|\n",
      "|HEALTH PROGRAM CO...|   48|\n",
      "|PERFORMANCE ANALY...|    6|\n",
      "|HEAVY EQUIPMENT O...|    1|\n",
      "|          Dep Dir IV|   74|\n",
      "|          Manager VI|  198|\n",
      "|Communications Li...|    6|\n",
      "|BATTALION CHIEF, ...|   45|\n",
      "|ASSOCIATE PERFORM...|   11|\n",
      "|SENIOR ESTATE INV...|    5|\n",
      "|              ROOFER|    9|\n",
      "|        Undersheriff|    4|\n",
      "|        Dept Head II|   22|\n",
      "|Sprv Electronic M...|   12|\n",
      "|AUTOMOTIVE MECHAN...|    6|\n",
      "|MANAGER VII - MUN...|    5|\n",
      "|STATION AGENT, MU...|   52|\n",
      "|CONFIDENTIAL SECR...|    1|\n",
      "+--------------------+-----+\n",
      "only showing top 20 rows\n",
      "\n"
     ]
    },
    {
     "name": "stderr",
     "output_type": "stream",
     "text": [
      "                                                                                \r"
     ]
    }
   ],
   "source": [
    "salarydf.groupBy('JobTitle').count().show()"
   ]
  },
  {
   "cell_type": "markdown",
   "id": "03b15d09-eb54-4e6f-8076-e74a08326f55",
   "metadata": {},
   "source": [
    "### Q6 List out the names and positions of employees whose total pay is greater than 180000."
   ]
  },
  {
   "cell_type": "code",
   "execution_count": 14,
   "id": "e0db3cdc-9c05-4542-8109-fdcb9f003712",
   "metadata": {},
   "outputs": [
    {
     "name": "stdout",
     "output_type": "stream",
     "text": [
      "+------------------+--------------------+---------+\n",
      "|      EmployeeName|            JobTitle| TotalPay|\n",
      "+------------------+--------------------+---------+\n",
      "|    NATHANIEL FORD|GENERAL MANAGER-M...|567595.43|\n",
      "|      GARY JIMENEZ|CAPTAIN III (POLI...|538909.28|\n",
      "|    ALBERT PARDINI|CAPTAIN III (POLI...|335279.91|\n",
      "| CHRISTOPHER CHONG|WIRE ROPE CABLE M...|332343.61|\n",
      "|   PATRICK GARDNER|DEPUTY CHIEF OF D...|326373.19|\n",
      "|    DAVID SULLIVAN|ASSISTANT DEPUTY ...|316285.74|\n",
      "|         ALSON LEE|BATTALION CHIEF, ...|315981.05|\n",
      "|     DAVID KUSHNER|DEPUTY DIRECTOR O...|307899.46|\n",
      "|    MICHAEL MORRIS|BATTALION CHIEF, ...|303427.55|\n",
      "|JOANNE HAYES-WHITE|CHIEF OF DEPARTME...|302377.73|\n",
      "|     ARTHUR KENNEY|ASSISTANT CHIEF O...|299494.17|\n",
      "|  PATRICIA JACKSON|CAPTAIN III (POLI...|297608.92|\n",
      "| EDWARD HARRINGTON|EXECUTIVE CONTRAC...|294580.02|\n",
      "|       JOHN MARTIN|   DEPARTMENT HEAD V|292671.62|\n",
      "|    DAVID FRANKLIN|BATTALION CHIEF, ...|286347.05|\n",
      "|   RICHARD CORRIEA|COMMANDER III, (P...|286213.86|\n",
      "|          AMY HART|   DEPARTMENT HEAD V|284720.43|\n",
      "|    SEBASTIAN WONG|CAPTAIN, EMERGENC...|278569.21|\n",
      "|        MARTY ROSS|BATTALION CHIEF, ...|276434.22|\n",
      "|     ELLEN MOFFATT|ASSISTANT MEDICAL...|274550.25|\n",
      "+------------------+--------------------+---------+\n",
      "only showing top 20 rows\n",
      "\n"
     ]
    }
   ],
   "source": [
    "salary_filter = salarydf.filter(salarydf['TotalPay']>180000)\n",
    "result = salary_filter.select(salary_filter['EmployeeName'],salary_filter['JobTitle'],salary_filter['TotalPay']).show()"
   ]
  },
  {
   "cell_type": "markdown",
   "id": "0152a609-3516-486b-ab93-afb5eddcc87b",
   "metadata": {},
   "source": [
    "### Q7 List the names and ids of employees who have never done overtime."
   ]
  },
  {
   "cell_type": "code",
   "execution_count": 15,
   "id": "3128a207-7d9f-4def-addb-f266d5b0bc52",
   "metadata": {},
   "outputs": [
    {
     "name": "stdout",
     "output_type": "stream",
     "text": [
      "+--------------------+---+\n",
      "|        EmployeeName| Id|\n",
      "+--------------------+---+\n",
      "|      NATHANIEL FORD|  1|\n",
      "|       DAVID KUSHNER|  8|\n",
      "|  JOANNE HAYES-WHITE| 10|\n",
      "|   EDWARD HARRINGTON| 13|\n",
      "|         JOHN MARTIN| 14|\n",
      "|            AMY HART| 17|\n",
      "|          VENUS AZAR| 21|\n",
      "|        GREGORY SUHR| 26|\n",
      "|      DENISE SCHMITT| 29|\n",
      "|       MONICA FIELDS| 30|\n",
      "|     HARLAN KELLY-JR| 31|\n",
      "|         DAVID SHINN| 32|\n",
      "|         GARY AMELIO| 33|\n",
      "|        SUSAN CURRIN| 37|\n",
      "|SHARON MCCOLE WICHER| 45|\n",
      "|           EDWIN LEE| 46|\n",
      "|        TRENT RHORER| 48|\n",
      "|        JAMES DUDLEY| 49|\n",
      "|      BARBARA GARCIA| 52|\n",
      "|       KEVIN CASHMAN| 56|\n",
      "+--------------------+---+\n",
      "only showing top 20 rows\n",
      "\n"
     ]
    }
   ],
   "source": [
    "overtime_filter = salarydf.filter(salarydf['OvertimePay']==0)\n",
    "result = overtime_filter.select(overtime_filter['EmployeeName'],overtime_filter['Id']).show()"
   ]
  }
 ],
 "metadata": {
  "kernelspec": {
   "display_name": "Python 3 (ipykernel)",
   "language": "python",
   "name": "python3"
  },
  "language_info": {
   "codemirror_mode": {
    "name": "ipython",
    "version": 3
   },
   "file_extension": ".py",
   "mimetype": "text/x-python",
   "name": "python",
   "nbconvert_exporter": "python",
   "pygments_lexer": "ipython3",
   "version": "3.8.10"
  }
 },
 "nbformat": 4,
 "nbformat_minor": 5
}
